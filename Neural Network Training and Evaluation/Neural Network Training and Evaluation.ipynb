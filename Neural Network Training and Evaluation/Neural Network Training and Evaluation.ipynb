{
 "cells": [
  {
   "cell_type": "code",
   "execution_count": 2,
   "metadata": {},
   "outputs": [],
   "source": [
    "import mxnet as mx\n",
    "from mxnet import nd, init, gluon, autograd, metric\n",
    "from mxnet.gluon import nn\n",
    "from mxnet.gluon.data.vision import datasets, transforms\n",
    "\n",
    "import matplotlib.pyplot as plt\n",
    "from time import time\n",
    "%matplotlib inline"
   ]
  },
  {
   "cell_type": "code",
   "execution_count": 3,
   "metadata": {},
   "outputs": [
    {
     "name": "stdout",
     "output_type": "stream",
     "text": [
      "Downloading C:\\Users\\saman\\AppData\\Roaming\\mxnet\\datasets\\fashion-mnist\\train-images-idx3-ubyte.gz from https://apache-mxnet.s3-accelerate.dualstack.amazonaws.com/gluon/dataset/fashion-mnist/train-images-idx3-ubyte.gz...\n",
      "Downloading C:\\Users\\saman\\AppData\\Roaming\\mxnet\\datasets\\fashion-mnist\\train-labels-idx1-ubyte.gz from https://apache-mxnet.s3-accelerate.dualstack.amazonaws.com/gluon/dataset/fashion-mnist/train-labels-idx1-ubyte.gz...\n",
      "X_shape : (28, 28, 1) dtype <class 'numpy.uint8'>\n",
      "y_shape : () dtype int32\n",
      "Number of image: 60000\n"
     ]
    }
   ],
   "source": [
    "#Get data\n",
    "mnist_train = gluon.data.vision.datasets.FashionMNIST(train=True)\n",
    "X, y = mnist_train[0]\n",
    "print(\"X_shape : %s dtype %s\" %(X.shape, X.dtype))\n",
    "print(\"Number of image: %d\" %len(mnist_train))"
   ]
  },
  {
   "cell_type": "code",
   "execution_count": 8,
   "metadata": {},
   "outputs": [],
   "source": [
    "X,y = mnist_train[0:6]"
   ]
  },
  {
   "cell_type": "markdown",
   "metadata": {},
   "source": [
    "# Transform dataset\n",
    "* channel first, float 32\n",
    "* normalize"
   ]
  },
  {
   "cell_type": "code",
   "execution_count": 9,
   "metadata": {},
   "outputs": [],
   "source": [
    "transform_fn = transforms.Compose([\n",
    "    transforms.ToTensor(),\n",
    "    transforms.Normalize(0.13, 0.31)\n",
    "])"
   ]
  },
  {
   "cell_type": "code",
   "execution_count": 10,
   "metadata": {},
   "outputs": [],
   "source": [
    "mnist_train = mnist_train.transform_first(transform_fn)"
   ]
  },
  {
   "cell_type": "code",
   "execution_count": 12,
   "metadata": {},
   "outputs": [],
   "source": [
    "# Data Loading\n",
    "batch_size = 256\n",
    "train_data = gluon.data.DataLoader(mnist_train, batch_size=batch_size, shuffle=True,num_workers=4)"
   ]
  },
  {
   "cell_type": "code",
   "execution_count": 14,
   "metadata": {},
   "outputs": [
    {
     "name": "stdout",
     "output_type": "stream",
     "text": [
      "(256, 1, 28, 28) (256,)\n"
     ]
    }
   ],
   "source": [
    "for data, label in train_data:\n",
    "    print(data.shape, label.shape)\n",
    "    break"
   ]
  },
  {
   "cell_type": "markdown",
   "metadata": {},
   "source": [
    "# Define Model\n",
    "* LeNet 5 model"
   ]
  },
  {
   "cell_type": "code",
   "execution_count": 17,
   "metadata": {},
   "outputs": [
    {
     "data": {
      "text/plain": [
       "Sequential(\n",
       "  (0): Conv2D(None -> 6, kernel_size=(5, 5), stride=(1, 1), Activation(relu))\n",
       "  (1): MaxPool2D(size=(2, 2), stride=(2, 2), padding=(0, 0), ceil_mode=False, global_pool=False, pool_type=max, layout=NCHW)\n",
       "  (2): Conv2D(None -> 16, kernel_size=(3, 3), stride=(1, 1), Activation(relu))\n",
       "  (3): MaxPool2D(size=(2, 2), stride=(2, 2), padding=(0, 0), ceil_mode=False, global_pool=False, pool_type=max, layout=NCHW)\n",
       "  (4): Flatten\n",
       "  (5): Dense(None -> 120, Activation(relu))\n",
       "  (6): Dense(None -> 84, Activation(relu))\n",
       "  (7): Dense(None -> 10, linear)\n",
       ")"
      ]
     },
     "execution_count": 17,
     "metadata": {},
     "output_type": "execute_result"
    }
   ],
   "source": [
    "net = nn.Sequential()\n",
    "with net.name_scope():\n",
    "    net.add(\n",
    "        nn.Conv2D(channels=6, kernel_size=5, activation='relu'),\n",
    "        nn.MaxPool2D(pool_size=2, strides=2),\n",
    "        nn.Conv2D(channels=16, kernel_size=3, activation='relu'),\n",
    "        nn.MaxPool2D(pool_size=2, strides=2),\n",
    "        nn.Flatten(),\n",
    "        nn.Dense(120, activation=\"relu\"),\n",
    "        nn.Dense(84, activation=\"relu\"),\n",
    "        nn.Dense(10)\n",
    "    )\n",
    "    \n",
    "net"
   ]
  },
  {
   "cell_type": "code",
   "execution_count": 18,
   "metadata": {},
   "outputs": [],
   "source": [
    "net.initialize(init=init.Xavier())"
   ]
  },
  {
   "cell_type": "code",
   "execution_count": 21,
   "metadata": {},
   "outputs": [],
   "source": [
    "# Loss\n",
    "softmax_crossentropy = gluon.loss.SoftmaxCrossEntropyLoss()"
   ]
  },
  {
   "cell_type": "code",
   "execution_count": 22,
   "metadata": {},
   "outputs": [],
   "source": [
    "# Metric\n",
    "train_acc = metric.Accuracy()"
   ]
  },
  {
   "cell_type": "code",
   "execution_count": 23,
   "metadata": {},
   "outputs": [],
   "source": [
    "# Optimization\n",
    "trainer = gluon.Trainer(net.collect_params(), 'sgd', {'learning_rate': 0.1})"
   ]
  },
  {
   "cell_type": "code",
   "execution_count": 24,
   "metadata": {},
   "outputs": [
    {
     "name": "stdout",
     "output_type": "stream",
     "text": [
      "Epoch(0) Loss: 0.833 Acc: 0.690 perf: -1582001429.3 img/sec\n",
      "Epoch(1) Loss: 0.476 Acc: 0.755 perf: -1582001689.8 img/sec\n",
      "Epoch(2) Loss: 0.408 Acc: 0.787 perf: -1582001876.5 img/sec\n",
      "Epoch(3) Loss: 0.369 Acc: 0.807 perf: -1582002061.3 img/sec\n",
      "Epoch(4) Loss: 0.345 Acc: 0.820 perf: -1582002251.1 img/sec\n",
      "Epoch(5) Loss: 0.322 Acc: 0.830 perf: -1582002446.7 img/sec\n",
      "Epoch(6) Loss: 0.310 Acc: 0.838 perf: -1582002626.2 img/sec\n",
      "Epoch(7) Loss: 0.297 Acc: 0.845 perf: -1582002809.1 img/sec\n",
      "Epoch(8) Loss: 0.285 Acc: 0.850 perf: -1582003004.0 img/sec\n",
      "Epoch(9) Loss: 0.275 Acc: 0.855 perf: -1582003197.9 img/sec\n"
     ]
    }
   ],
   "source": [
    "# Training Loop\n",
    "for epoch in range(10):\n",
    "    train_loss = 0.\n",
    "    tic = time()\n",
    "    for data, label in train_data:\n",
    "        with autograd.record():\n",
    "            output = net(data)\n",
    "            loss = softmax_crossentropy(output, label)\n",
    "            loss.backward()\n",
    "            \n",
    "        trainer.step(batch_size)\n",
    "        \n",
    "        train_loss += loss.mean().asscalar()\n",
    "        train_acc.update(label, output)\n",
    "        \n",
    "    print(\"Epoch(%d) Loss: %.3f Acc: %.3f perf: %.1f img/sec\"\n",
    "          %(epoch, train_loss/len(train_data), train_acc.get()[1], len(mnist_train)/time()-tic))"
   ]
  },
  {
   "cell_type": "code",
   "execution_count": 25,
   "metadata": {},
   "outputs": [],
   "source": [
    "net.save_parameters(\"trained_net.params\")"
   ]
  },
  {
   "cell_type": "markdown",
   "metadata": {},
   "source": [
    "# Neural Network Evaluation"
   ]
  },
  {
   "cell_type": "code",
   "execution_count": 26,
   "metadata": {},
   "outputs": [],
   "source": [
    "# load parameters\n",
    "net.load_parameters(\"trained_net.params\")"
   ]
  },
  {
   "cell_type": "code",
   "execution_count": 27,
   "metadata": {},
   "outputs": [
    {
     "name": "stdout",
     "output_type": "stream",
     "text": [
      "Downloading C:\\Users\\saman\\AppData\\Roaming\\mxnet\\datasets\\fashion-mnist\\t10k-images-idx3-ubyte.gz from https://apache-mxnet.s3-accelerate.dualstack.amazonaws.com/gluon/dataset/fashion-mnist/t10k-images-idx3-ubyte.gz...\n",
      "Downloading C:\\Users\\saman\\AppData\\Roaming\\mxnet\\datasets\\fashion-mnist\\t10k-labels-idx1-ubyte.gz from https://apache-mxnet.s3-accelerate.dualstack.amazonaws.com/gluon/dataset/fashion-mnist/t10k-labels-idx1-ubyte.gz...\n"
     ]
    }
   ],
   "source": [
    "# Predict\n",
    "mnist_valid = datasets.FashionMNIST(train=False)"
   ]
  },
  {
   "cell_type": "code",
   "execution_count": 28,
   "metadata": {},
   "outputs": [],
   "source": [
    "# Data Transformation\n",
    "transform_fn = transforms.Compose([\n",
    "    transforms.ToTensor(),\n",
    "    transforms.Normalize(0.13, 0.31)\n",
    "])"
   ]
  },
  {
   "cell_type": "code",
   "execution_count": 29,
   "metadata": {},
   "outputs": [],
   "source": [
    "# Predict for 6 images\n",
    "preds = []\n",
    "for idx in range(6):\n",
    "    image,label = mnist_valid[idx]\n",
    "    image = transform_fn(image).expand_dims(axis=0)\n",
    "    pred = net(image).argmax(axis=1)\n",
    "    preds.append(pred.astype('int32').asscalar())"
   ]
  },
  {
   "cell_type": "code",
   "execution_count": 31,
   "metadata": {},
   "outputs": [],
   "source": [
    "# Validation dataloader\n",
    "\n",
    "batch_size = 256\n",
    "valid_data = gluon.data.DataLoader(\n",
    "    mnist_valid.transform_first(transform_fn), \n",
    "    batch_size = batch_size\n",
    ")"
   ]
  },
  {
   "cell_type": "code",
   "execution_count": 32,
   "metadata": {},
   "outputs": [],
   "source": [
    "# Accuracy\n",
    "valid_acc = metric.Accuracy()"
   ]
  },
  {
   "cell_type": "code",
   "execution_count": 33,
   "metadata": {},
   "outputs": [
    {
     "name": "stdout",
     "output_type": "stream",
     "text": [
      "Validation Acc: 0.883\n",
      "Validation Acc: 0.881\n",
      "Validation Acc: 0.888\n",
      "Validation Acc: 0.887\n",
      "Validation Acc: 0.886\n",
      "Validation Acc: 0.883\n",
      "Validation Acc: 0.876\n",
      "Validation Acc: 0.876\n",
      "Validation Acc: 0.876\n",
      "Validation Acc: 0.875\n",
      "Validation Acc: 0.876\n",
      "Validation Acc: 0.877\n",
      "Validation Acc: 0.876\n",
      "Validation Acc: 0.876\n",
      "Validation Acc: 0.878\n",
      "Validation Acc: 0.880\n",
      "Validation Acc: 0.883\n",
      "Validation Acc: 0.883\n",
      "Validation Acc: 0.885\n",
      "Validation Acc: 0.884\n",
      "Validation Acc: 0.885\n",
      "Validation Acc: 0.886\n",
      "Validation Acc: 0.885\n",
      "Validation Acc: 0.885\n",
      "Validation Acc: 0.886\n",
      "Validation Acc: 0.885\n",
      "Validation Acc: 0.885\n",
      "Validation Acc: 0.885\n",
      "Validation Acc: 0.886\n",
      "Validation Acc: 0.886\n",
      "Validation Acc: 0.886\n",
      "Validation Acc: 0.887\n",
      "Validation Acc: 0.887\n",
      "Validation Acc: 0.888\n",
      "Validation Acc: 0.888\n",
      "Validation Acc: 0.888\n",
      "Validation Acc: 0.889\n",
      "Validation Acc: 0.890\n",
      "Validation Acc: 0.890\n",
      "Validation Acc: 0.890\n"
     ]
    }
   ],
   "source": [
    "# Validation Loop\n",
    "for data, label in valid_data:\n",
    "    output = net(data)\n",
    "    valid_acc.update(label, output)\n",
    "    print(\"Validation Acc: %.3f\" %(valid_acc.get()[1]))"
   ]
  },
  {
   "cell_type": "code",
   "execution_count": null,
   "metadata": {},
   "outputs": [],
   "source": []
  }
 ],
 "metadata": {
  "kernelspec": {
   "display_name": "Python 3",
   "language": "python",
   "name": "python3"
  },
  "language_info": {
   "codemirror_mode": {
    "name": "ipython",
    "version": 3
   },
   "file_extension": ".py",
   "mimetype": "text/x-python",
   "name": "python",
   "nbconvert_exporter": "python",
   "pygments_lexer": "ipython3",
   "version": "3.7.3"
  }
 },
 "nbformat": 4,
 "nbformat_minor": 4
}
