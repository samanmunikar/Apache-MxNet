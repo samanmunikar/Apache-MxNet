{
 "cells": [
  {
   "cell_type": "code",
   "execution_count": 1,
   "metadata": {},
   "outputs": [],
   "source": [
    "import mxnet as mx\n",
    "from mxnet import gluon, nd\n",
    "from matplotlib.pyplot import imshow\n",
    "%matplotlib inline"
   ]
  },
  {
   "cell_type": "code",
   "execution_count": 2,
   "metadata": {},
   "outputs": [],
   "source": [
    "mx.random.seed(42)\n",
    "x = mx.random.uniform(shape=(10,3))\n",
    "y = mx.random.uniform(shape=(10,1))"
   ]
  },
  {
   "cell_type": "code",
   "execution_count": 3,
   "metadata": {},
   "outputs": [],
   "source": [
    "# Once we have our data in ndArray. We can use gluon.data.dataset.ArrayDataset to create the gluon dataset\n",
    "dataset = gluon.data.dataset.ArrayDataset(x,y)"
   ]
  },
  {
   "cell_type": "code",
   "execution_count": 4,
   "metadata": {},
   "outputs": [
    {
     "data": {
      "text/plain": [
       "(\n",
       " [0.74707687 0.37641123 0.46362457]\n",
       " <NDArray 3 @cpu(0)>,\n",
       " \n",
       " [0.35440788]\n",
       " <NDArray 1 @cpu(0)>)"
      ]
     },
     "execution_count": 4,
     "metadata": {},
     "output_type": "execute_result"
    }
   ],
   "source": [
    "sample = dataset[4]\n",
    "sample"
   ]
  },
  {
   "cell_type": "code",
   "execution_count": 5,
   "metadata": {},
   "outputs": [],
   "source": [
    "train_dataset = gluon.data.vision.datasets.MNIST(train=True)\n",
    "test_dataset = gluon.data.vision.datasets.MNIST(train=False)"
   ]
  },
  {
   "cell_type": "code",
   "execution_count": 6,
   "metadata": {},
   "outputs": [
    {
     "name": "stdout",
     "output_type": "stream",
     "text": [
      "(28, 28, 1)\n"
     ]
    }
   ],
   "source": [
    "sample_image = train_dataset[19][0]\n",
    "print(sample_image.shape)"
   ]
  },
  {
   "cell_type": "code",
   "execution_count": 7,
   "metadata": {},
   "outputs": [
    {
     "data": {
      "text/plain": [
       "<matplotlib.image.AxesImage at 0x1aa7259e710>"
      ]
     },
     "execution_count": 7,
     "metadata": {},
     "output_type": "execute_result"
    },
    {
     "data": {
      "image/png": "[encoded data removed]",
      "text/plain": [
       "<Figure size 432x288 with 1 Axes>"
      ]
     },
     "metadata": {
      "needs_background": "light"
     },
     "output_type": "display_data"
    }
   ],
   "source": [
    "imshow(sample_image[:,:,0].asnumpy(), cmap='gray')"
   ]
  },
  {
   "cell_type": "code",
   "execution_count": 8,
   "metadata": {},
   "outputs": [],
   "source": [
    "# ImageFolder Datasets\n",
    "# image_datasets = gluon.data.vision.datasets.ImageFolderDataset('path_to_folder')"
   ]
  },
  {
   "cell_type": "markdown",
   "metadata": {},
   "source": [
    "# Custom Dataset"
   ]
  },
  {
   "cell_type": "code",
   "execution_count": 9,
   "metadata": {},
   "outputs": [],
   "source": [
    "class MyCustomDataset(gluon.data.Dataset):\n",
    "    def __init__(self, dict_data):\n",
    "        self.dict_data = dict_data\n",
    "        self.dict_keys = list(dict_data.keys())\n",
    "    \n",
    "    def __getitem__(self, idx):\n",
    "        return self.dict_data[self.dict_keys[idx]]\n",
    "    \n",
    "    def __len__(self):\n",
    "        return len(self.dict_data)\n",
    "    "
   ]
  },
  {
   "cell_type": "code",
   "execution_count": 10,
   "metadata": {},
   "outputs": [],
   "source": [
    "dataset = MyCustomDataset({\n",
    "    'a':mx.nd.array(1,),\n",
    "    'b':mx.nd.array(2,),\n",
    "    'c':mx.nd.array(3,)\n",
    "})\n"
   ]
  },
  {
   "cell_type": "code",
   "execution_count": 11,
   "metadata": {},
   "outputs": [
    {
     "data": {
      "text/plain": [
       "\n",
       "3.0\n",
       "<NDArray  @cpu(0)>"
      ]
     },
     "execution_count": 11,
     "metadata": {},
     "output_type": "execute_result"
    }
   ],
   "source": [
    "dataset[2]"
   ]
  },
  {
   "cell_type": "markdown",
   "metadata": {},
   "source": [
    "## Gluon Transformation"
   ]
  },
  {
   "cell_type": "code",
   "execution_count": 12,
   "metadata": {},
   "outputs": [],
   "source": [
    "def transform_fn(data, label):\n",
    "    data = data.astype('float32') / 225\n",
    "    return data, label"
   ]
  },
  {
   "cell_type": "code",
   "execution_count": 13,
   "metadata": {},
   "outputs": [],
   "source": [
    "train_dataset = gluon.data.vision.datasets.MNIST(train=True).transform(transform_fn)\n",
    "test_dataset = gluon.data.vision.datasets.MNIST(train=False).transform(transform_fn)"
   ]
  },
  {
   "cell_type": "code",
   "execution_count": 14,
   "metadata": {},
   "outputs": [
    {
     "data": {
      "text/plain": [
       "\n",
       "[1.1333333]\n",
       "<NDArray 1 @cpu(0)>"
      ]
     },
     "execution_count": 14,
     "metadata": {},
     "output_type": "execute_result"
    }
   ],
   "source": [
    "sample_image = train_dataset[19][0]\n",
    "nd.max(sample_image)"
   ]
  },
  {
   "cell_type": "markdown",
   "metadata": {},
   "source": [
    "### Vision Transforms\n",
    "gluon.data.vision.transforms has implemented transformation function that are common in computer vision"
   ]
  },
  {
   "cell_type": "code",
   "execution_count": 15,
   "metadata": {},
   "outputs": [],
   "source": [
    "from mxnet import gluon, nd\n",
    "from mxnet.gluon.data.vision import transforms"
   ]
  },
  {
   "cell_type": "markdown",
   "metadata": {},
   "source": [
    "## ToTensor Transformation\n",
    "Convert an image NDArray of shape(H,W,C) in range[0,255] to a goat tensor NDArray of shape(C,H,W) in the range[0,1)"
   ]
  },
  {
   "cell_type": "code",
   "execution_count": 16,
   "metadata": {},
   "outputs": [
    {
     "data": {
      "text/plain": [
       "(28, 28, 1)"
      ]
     },
     "execution_count": 16,
     "metadata": {},
     "output_type": "execute_result"
    }
   ],
   "source": [
    "train_dataset = gluon.data.vision.datasets.MNIST(train=True)\n",
    "train_dataset[19][0].shape"
   ]
  },
  {
   "cell_type": "code",
   "execution_count": 17,
   "metadata": {},
   "outputs": [
    {
     "data": {
      "text/plain": [
       "(1, 28, 28)"
      ]
     },
     "execution_count": 17,
     "metadata": {},
     "output_type": "execute_result"
    }
   ],
   "source": [
    "to_tensor = transforms.ToTensor()\n",
    "train_dataset = train_dataset.transform_first(to_tensor)  # apply transform to image not label\n",
    "train_dataset[19][0].shape"
   ]
  },
  {
   "cell_type": "code",
   "execution_count": 18,
   "metadata": {},
   "outputs": [],
   "source": [
    "# if apply transformation to both image and label then use .transform method\n"
   ]
  },
  {
   "cell_type": "markdown",
   "metadata": {},
   "source": [
    "### Normalize\n",
    "Normalize a tensor of ahspe (C,H,W) with mean and standard deviation"
   ]
  },
  {
   "cell_type": "code",
   "execution_count": 19,
   "metadata": {},
   "outputs": [],
   "source": [
    "mean, std = (0.1307,),(0.3081,)\n",
    "normalize = transforms.Normalize(mean, std)\n",
    "train_dataset = train_dataset.transform_first(normalize)"
   ]
  },
  {
   "cell_type": "markdown",
   "metadata": {},
   "source": [
    "### Compose\n",
    "Sequentially compose multiple transformation\n"
   ]
  },
  {
   "cell_type": "code",
   "execution_count": 20,
   "metadata": {},
   "outputs": [],
   "source": [
    "transform_fn = transforms.Compose([\n",
    "    transforms.ToTensor(),\n",
    "    transforms.Normalize(mean,std)\n",
    "])"
   ]
  },
  {
   "cell_type": "code",
   "execution_count": 21,
   "metadata": {},
   "outputs": [],
   "source": [
    "train_dataset = gluon.data.vision.datasets.MNIST(train=True).transform(transform_fn)"
   ]
  },
  {
   "cell_type": "markdown",
   "metadata": {},
   "source": [
    "### Data Augmentation via Transformation\n",
    "Reduce Overfitting\n",
    "\n",
    "* transforms.Resize\n",
    "* transforms.CenterCrop\n",
    "* transforms.RandomSizedCrop\n",
    "* transforms.RandomFlipLeftRight\n",
    "* transfomrs.RandomBrightness"
   ]
  },
  {
   "cell_type": "markdown",
   "metadata": {},
   "source": [
    "## Gluon DataLoaders\n",
    "mini-batch of data from dataset"
   ]
  },
  {
   "cell_type": "code",
   "execution_count": 22,
   "metadata": {},
   "outputs": [],
   "source": [
    "mx.random.seed(42)\n",
    "X = mx.random.uniform(shape=(10,3))\n",
    "y = mx.random.uniform(shape=(10,1))\n",
    "dataset = gluon.data.dataset.ArrayDataset(X,y)"
   ]
  },
  {
   "cell_type": "code",
   "execution_count": 24,
   "metadata": {},
   "outputs": [
    {
     "name": "stdout",
     "output_type": "stream",
     "text": [
      "X_batch has shape (5, 3) and y_batch has shape (5, 1)\n",
      "X_batch has shape (5, 3) and y_batch has shape (5, 1)\n"
     ]
    }
   ],
   "source": [
    "data_loader = gluon.data.DataLoader(dataset, batch_size=5, last_batch='keep')\n",
    "for X_batch, y_batch in data_loader:\n",
    "    print(\"X_batch has shape {} and y_batch has shape {}\".format(X_batch.shape, y_batch.shape))"
   ]
  },
  {
   "cell_type": "code",
   "execution_count": 25,
   "metadata": {},
   "outputs": [],
   "source": [
    "# Parallel Data Loading\n",
    "from multiprocessing import cpu_count\n",
    "CPU_COUNT = cpu_count()"
   ]
  },
  {
   "cell_type": "code",
   "execution_count": 27,
   "metadata": {},
   "outputs": [
    {
     "name": "stdout",
     "output_type": "stream",
     "text": [
      "X_batch has shape (5, 3) and y_batch has shape (5, 1)\n",
      "X_batch has shape (5, 3) and y_batch has shape (5, 1)\n"
     ]
    }
   ],
   "source": [
    "data_loader = gluon.data.DataLoader(dataset, batch_size=5, num_workers=CPU_COUNT)\n",
    "for X_batch, y_batch in data_loader:\n",
    "    print(\"X_batch has shape {} and y_batch has shape {}\".format(X_batch.shape, y_batch.shape))"
   ]
  },
  {
   "cell_type": "code",
   "execution_count": 28,
   "metadata": {},
   "outputs": [],
   "source": [
    "from mxnet.gluon.data.vision import transforms"
   ]
  },
  {
   "cell_type": "code",
   "execution_count": 29,
   "metadata": {},
   "outputs": [],
   "source": [
    "train_dataset = gluon.data.vision.datasets.MNIST(train=True)\n",
    "test_dataset = gluon.data.vision.datasets.MNIST(train=False)\n"
   ]
  },
  {
   "cell_type": "code",
   "execution_count": 30,
   "metadata": {},
   "outputs": [],
   "source": [
    "transform = transforms.Compose([\n",
    "    transforms.RandomFlipTopBottom(),\n",
    "    transforms.RandomFlipLeftRight()\n",
    "])"
   ]
  },
  {
   "cell_type": "code",
   "execution_count": 31,
   "metadata": {},
   "outputs": [
    {
     "data": {
      "image/png": "[encoded data removed]",
      "text/plain": [
       "<Figure size 432x288 with 1 Axes>"
      ]
     },
     "metadata": {
      "needs_background": "light"
     },
     "output_type": "display_data"
    }
   ],
   "source": [
    "train_dataloader = gluon.data.DataLoader(train_dataset.transform_first(transform), batch_size=5, shuffle=True)\n",
    "for X_batch, y_batch in train_dataloader:\n",
    "    imshow(X_batch[3,:,:,0].asnumpy(), cmap='gray')\n",
    "    break"
   ]
  },
  {
   "cell_type": "code",
   "execution_count": null,
   "metadata": {},
   "outputs": [],
   "source": []
  }
 ],
 "metadata": {
  "kernelspec": {
   "display_name": "Python 3",
   "language": "python",
   "name": "python3"
  },
  "language_info": {
   "codemirror_mode": {
    "name": "ipython",
    "version": 3
   },
   "file_extension": ".py",
   "mimetype": "text/x-python",
   "name": "python",
   "nbconvert_exporter": "python",
   "pygments_lexer": "ipython3",
   "version": "3.7.3"
  }
 },
 "nbformat": 4,
 "nbformat_minor": 4
}
